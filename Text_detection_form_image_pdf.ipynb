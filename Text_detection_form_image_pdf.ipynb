{
  "nbformat": 4,
  "nbformat_minor": 0,
  "metadata": {
    "colab": {
      "provenance": [],
      "gpuType": "T4",
      "authorship_tag": "ABX9TyOZZ/vZgTEM/QhhHD8gOFZz",
      "include_colab_link": true
    },
    "kernelspec": {
      "name": "python3",
      "display_name": "Python 3"
    },
    "language_info": {
      "name": "python"
    },
    "accelerator": "GPU",
    "gpuClass": "standard"
  },
  "cells": [
    {
      "cell_type": "markdown",
      "metadata": {
        "id": "view-in-github",
        "colab_type": "text"
      },
      "source": [
        "<a href=\"https://colab.research.google.com/github/sakp7/Text-extractor-from-pdf-s-and-images/blob/main/Text_detection_form_image_pdf.ipynb\" target=\"_parent\"><img src=\"https://colab.research.google.com/assets/colab-badge.svg\" alt=\"Open In Colab\"/></a>"
      ]
    },
    {
      "cell_type": "markdown",
      "source": [
        "**Hello there,\n",
        "This is a text extraction project from images and pdf's by using only cv2 and tesseract.**"
      ],
      "metadata": {
        "id": "WmtHLbaIetSP"
      }
    },
    {
      "cell_type": "code",
      "source": [
        "!pip install pytesseract\n",
        "!apt-get install tesseract-ocr\n",
        "!apt-get install libtesseract-dev\n"
      ],
      "metadata": {
        "colab": {
          "base_uri": "https://localhost:8080/"
        },
        "id": "uNcEKjDAYU2w",
        "outputId": "7ac9b2a8-dfdc-4bc0-8f2a-9b7ab404ec1d"
      },
      "execution_count": 2,
      "outputs": [
        {
          "output_type": "stream",
          "name": "stdout",
          "text": [
            "Looking in indexes: https://pypi.org/simple, https://us-python.pkg.dev/colab-wheels/public/simple/\n",
            "Collecting pytesseract\n",
            "  Downloading pytesseract-0.3.10-py3-none-any.whl (14 kB)\n",
            "Requirement already satisfied: packaging>=21.3 in /usr/local/lib/python3.10/dist-packages (from pytesseract) (23.1)\n",
            "Requirement already satisfied: Pillow>=8.0.0 in /usr/local/lib/python3.10/dist-packages (from pytesseract) (8.4.0)\n",
            "Installing collected packages: pytesseract\n",
            "Successfully installed pytesseract-0.3.10\n",
            "Reading package lists... Done\n",
            "Building dependency tree       \n",
            "Reading state information... Done\n",
            "The following additional packages will be installed:\n",
            "  tesseract-ocr-eng tesseract-ocr-osd\n",
            "The following NEW packages will be installed:\n",
            "  tesseract-ocr tesseract-ocr-eng tesseract-ocr-osd\n",
            "0 upgraded, 3 newly installed, 0 to remove and 24 not upgraded.\n",
            "Need to get 4,850 kB of archives.\n",
            "After this operation, 16.3 MB of additional disk space will be used.\n",
            "Get:1 http://archive.ubuntu.com/ubuntu focal/universe amd64 tesseract-ocr-eng all 1:4.00~git30-7274cfa-1 [1,598 kB]\n",
            "Get:2 http://archive.ubuntu.com/ubuntu focal/universe amd64 tesseract-ocr-osd all 1:4.00~git30-7274cfa-1 [2,990 kB]\n",
            "Get:3 http://archive.ubuntu.com/ubuntu focal/universe amd64 tesseract-ocr amd64 4.1.1-2build2 [262 kB]\n",
            "Fetched 4,850 kB in 2s (2,821 kB/s)\n",
            "Selecting previously unselected package tesseract-ocr-eng.\n",
            "(Reading database ... 122531 files and directories currently installed.)\n",
            "Preparing to unpack .../tesseract-ocr-eng_1%3a4.00~git30-7274cfa-1_all.deb ...\n",
            "Unpacking tesseract-ocr-eng (1:4.00~git30-7274cfa-1) ...\n",
            "Selecting previously unselected package tesseract-ocr-osd.\n",
            "Preparing to unpack .../tesseract-ocr-osd_1%3a4.00~git30-7274cfa-1_all.deb ...\n",
            "Unpacking tesseract-ocr-osd (1:4.00~git30-7274cfa-1) ...\n",
            "Selecting previously unselected package tesseract-ocr.\n",
            "Preparing to unpack .../tesseract-ocr_4.1.1-2build2_amd64.deb ...\n",
            "Unpacking tesseract-ocr (4.1.1-2build2) ...\n",
            "Setting up tesseract-ocr-eng (1:4.00~git30-7274cfa-1) ...\n",
            "Setting up tesseract-ocr-osd (1:4.00~git30-7274cfa-1) ...\n",
            "Setting up tesseract-ocr (4.1.1-2build2) ...\n",
            "Processing triggers for man-db (2.9.1-1) ...\n",
            "Reading package lists... Done\n",
            "Building dependency tree       \n",
            "Reading state information... Done\n",
            "The following additional packages will be installed:\n",
            "  libarchive-dev libleptonica-dev\n",
            "The following NEW packages will be installed:\n",
            "  libarchive-dev libleptonica-dev libtesseract-dev\n",
            "0 upgraded, 3 newly installed, 0 to remove and 24 not upgraded.\n",
            "Need to get 3,343 kB of archives.\n",
            "After this operation, 15.7 MB of additional disk space will be used.\n",
            "Get:1 http://archive.ubuntu.com/ubuntu focal-updates/main amd64 libarchive-dev amd64 3.4.0-2ubuntu1.2 [491 kB]\n",
            "Get:2 http://archive.ubuntu.com/ubuntu focal/universe amd64 libleptonica-dev amd64 1.79.0-1 [1,389 kB]\n",
            "Get:3 http://archive.ubuntu.com/ubuntu focal/universe amd64 libtesseract-dev amd64 4.1.1-2build2 [1,463 kB]\n",
            "Fetched 3,343 kB in 2s (2,090 kB/s)\n",
            "Selecting previously unselected package libarchive-dev:amd64.\n",
            "(Reading database ... 122578 files and directories currently installed.)\n",
            "Preparing to unpack .../libarchive-dev_3.4.0-2ubuntu1.2_amd64.deb ...\n",
            "Unpacking libarchive-dev:amd64 (3.4.0-2ubuntu1.2) ...\n",
            "Selecting previously unselected package libleptonica-dev:amd64.\n",
            "Preparing to unpack .../libleptonica-dev_1.79.0-1_amd64.deb ...\n",
            "Unpacking libleptonica-dev:amd64 (1.79.0-1) ...\n",
            "Selecting previously unselected package libtesseract-dev:amd64.\n",
            "Preparing to unpack .../libtesseract-dev_4.1.1-2build2_amd64.deb ...\n",
            "Unpacking libtesseract-dev:amd64 (4.1.1-2build2) ...\n",
            "Setting up libleptonica-dev:amd64 (1.79.0-1) ...\n",
            "Setting up libarchive-dev:amd64 (3.4.0-2ubuntu1.2) ...\n",
            "Setting up libtesseract-dev:amd64 (4.1.1-2build2) ...\n",
            "Processing triggers for man-db (2.9.1-1) ...\n"
          ]
        }
      ]
    },
    {
      "cell_type": "code",
      "source": [
        "!pip install tesseract"
      ],
      "metadata": {
        "colab": {
          "base_uri": "https://localhost:8080/"
        },
        "id": "COsNz-jtYVon",
        "outputId": "6e45f113-9831-4c0b-8ab1-97c2a73b0945"
      },
      "execution_count": 3,
      "outputs": [
        {
          "output_type": "stream",
          "name": "stdout",
          "text": [
            "Looking in indexes: https://pypi.org/simple, https://us-python.pkg.dev/colab-wheels/public/simple/\n",
            "Collecting tesseract\n",
            "  Downloading tesseract-0.1.3.tar.gz (45.6 MB)\n",
            "\u001b[2K     \u001b[90m━━━━━━━━━━━━━━━━━━━━━━━━━━━━━━━━━━━━━━━━\u001b[0m \u001b[32m45.6/45.6 MB\u001b[0m \u001b[31m14.2 MB/s\u001b[0m eta \u001b[36m0:00:00\u001b[0m\n",
            "\u001b[?25h  Preparing metadata (setup.py) ... \u001b[?25l\u001b[?25hdone\n",
            "Building wheels for collected packages: tesseract\n",
            "  Building wheel for tesseract (setup.py) ... \u001b[?25l\u001b[?25hdone\n",
            "  Created wheel for tesseract: filename=tesseract-0.1.3-py3-none-any.whl size=45562552 sha256=5d7fe691cee0b2380ca2f2cafeb428212734c58174de348ad5c1e5653986ee0c\n",
            "  Stored in directory: /root/.cache/pip/wheels/71/c9/aa/698c579693e83fdda9ad6d6f0d8f61ed986e27925ef576f109\n",
            "Successfully built tesseract\n",
            "Installing collected packages: tesseract\n",
            "Successfully installed tesseract-0.1.3\n"
          ]
        }
      ]
    },
    {
      "cell_type": "code",
      "source": [
        "import cv2\n",
        "import pytesseract\n",
        "from PIL import Image\n"
      ],
      "metadata": {
        "id": "3fdXeXIgYclM"
      },
      "execution_count": 4,
      "outputs": []
    },
    {
      "cell_type": "code",
      "source": [
        "def load_image(filename):\n",
        "    img = cv2.imread(filename)\n",
        "    return img\n"
      ],
      "metadata": {
        "id": "1SHq5QGoYKHo"
      },
      "execution_count": 5,
      "outputs": []
    },
    {
      "cell_type": "code",
      "source": [
        "def preprocess_image(image):\n",
        "    gray = cv2.cvtColor(image, cv2.COLOR_BGR2GRAY)\n",
        "    gray = cv2.threshold(gray, 0, 255, cv2.THRESH_BINARY | cv2.THRESH_OTSU)[1]\n",
        "\n",
        "    return gray\n"
      ],
      "metadata": {
        "id": "HuOZJnY3YKVM"
      },
      "execution_count": 34,
      "outputs": []
    },
    {
      "cell_type": "code",
      "source": [
        "def apply_ocr(image):\n",
        "    text = pytesseract.image_to_string(image)\n",
        "    return text\n"
      ],
      "metadata": {
        "id": "rrGxvTlhY3jv"
      },
      "execution_count": 7,
      "outputs": []
    },
    {
      "cell_type": "code",
      "source": [
        "def add_padding(image, padding):\n",
        "    padded_image = cv2.copyMakeBorder(image, padding, padding, padding, padding, cv2.BORDER_CONSTANT)\n",
        "    cv2_imshow(padded_image)\n",
        "    return padded_image"
      ],
      "metadata": {
        "id": "mabOhjJMaJc5"
      },
      "execution_count": 43,
      "outputs": []
    },
    {
      "cell_type": "code",
      "source": [
        "def process_image(filename):\n",
        "    image = load_image(filename)\n",
        "    processed_image = preprocess_image(image)\n",
        "    processed_image=add_padding(processed_image,100)\n",
        "\n",
        "    text = apply_ocr(processed_image)\n",
        "    return text\n"
      ],
      "metadata": {
        "id": "Bc0Gy1FjY64O"
      },
      "execution_count": 36,
      "outputs": []
    },
    {
      "cell_type": "code",
      "source": [
        "file = '/content/3.jpg'\n",
        "result = process_image(file)\n",
        "print(result)\n"
      ],
      "metadata": {
        "colab": {
          "base_uri": "https://localhost:8080/",
          "height": 1000
        },
        "id": "ON3aEbc2Y80U",
        "outputId": "b3c47940-fdfb-4e33-b2c4-1920b7537721"
      },
      "execution_count": 44,
      "outputs": [
        {
          "output_type": "display_data",
          "data": {
            "text/plain": [
              "<PIL.Image.Image image mode=L size=1341x941 at 0x7F91FD427C70>"
            ],
            "image/png": "[encoded data removed]"
          },
          "metadata": {}
        },
        {
          "output_type": "stream",
          "name": "stdout",
          "text": [
            "Satisfied cormeying an dependent contented he gentleman agreeable do be. Harrant\n",
            "Private blushes removed an in equally totally if, Delivered dejection necessary\n",
            "objection do mr prevailed. Mr feeling do chiefly cordial in do. Water timed folly\n",
            "right aware if oh truth. Imprudence attachment him his for sympathize. Large above\n",
            "be to means. Dashwood do provided stronger 1s, But discretion frequently sir the\n",
            "she instrument unaffected admiration everything.\n",
            "\n",
            "Her extensive perceived may amy sincerity extremity. Indeed add rather may pretty\n",
            "see. Old propriety delighted explained perceived otheruise objection say ten her,\n",
            "Doubt merit sir the right these alone keeps. By sometimes intention smallness he\n",
            "northward. Consisted we otherwise arranging commanded discovery it explained.\n",
            "Does cold even song like two yet been. Literature interested announcing for\n",
            "terminated him inquietude day shy, Himself he fertile chicken perhaps waiting if\n",
            "highest no it. Continued promotion has consulted fat improwing not Hay,\n",
            "\n",
            "Far quitting dwelling graceful the likewise received building, An fact go to that\n",
            "show am shed sold cold. Unaffected remarkably get yet introduced excellence\n",
            "terminated led. Result either design saw she esteem and. On ashamed mo inhabit\n",
            "terrars it ye besides resolve, fun pidgment directly fen trifling. Elderly as\n",
            "pursuit at regular do parlors. Rank what has into fond she.\n",
            "\n",
            "Of friendship on inhabiting diminution discovered as. Did friendly eat breeding\n",
            "building few nor. Object he barton no effect played valley afford. Period s0 to\n",
            "oppose ne little seeing or branch. Announcing contrasted not imprudence add\n",
            "frequently you possession mrs. Period sav his houses square and misery. Hour had\n",
            "held lain give yet,\n",
            "\n",
            " \n",
            "\f\n"
          ]
        }
      ]
    },
    {
      "cell_type": "code",
      "source": [
        "def load_pdf(filename):\n",
        "    with open(filename, 'rb') as f:\n",
        "        pdf_reader = PyPDF2.PdfFileReader(f)\n",
        "        text = \"\"\n",
        "        for page_num in range(pdf_reader.numPages):\n",
        "            page = pdf_reader.getPage(page_num)\n",
        "            text += page.extract_text()\n",
        "        return text\n"
      ],
      "metadata": {
        "id": "JxhC_9owcnKu"
      },
      "execution_count": 58,
      "outputs": []
    },
    {
      "cell_type": "code",
      "source": [
        "def perform_ocr(input_file):\n",
        "    if input_file.lower().endswith('.pdf'):\n",
        "        text = load_pdf(input_file)\n",
        "    elif input_file.lower().endswith(('.jpg', '.jpeg', '.png')):\n",
        "        image = load_image(input_file)\n",
        "        processed_image = preprocess_image(image)\n",
        "        text = extract_text_from_image(processed_image)\n",
        "    else:\n",
        "        raise ValueError(\"Unsupported file format. Only PDF, JPG, JPEG, and PNG are supported.\")\n",
        "\n",
        "    return text\n"
      ],
      "metadata": {
        "id": "jWNnJIEPcqyL"
      },
      "execution_count": 47,
      "outputs": []
    },
    {
      "cell_type": "code",
      "source": [
        "import PyPDF2\n",
        "\n",
        "def load_pdf(filename):\n",
        "    with open(filename, 'rb') as f:\n",
        "        pdf_reader = PyPDF2.PdfReader(f)\n",
        "        text = \"\"\n",
        "        for page in pdf_reader.pages:\n",
        "            text += page.extract_text()\n",
        "        return text\n"
      ],
      "metadata": {
        "id": "8eeYf2U0dY9U"
      },
      "execution_count": 61,
      "outputs": []
    },
    {
      "cell_type": "code",
      "source": [
        "!pip install -U PyPDF2\n"
      ],
      "metadata": {
        "colab": {
          "base_uri": "https://localhost:8080/"
        },
        "id": "8MYLPjmadEfL",
        "outputId": "6a34e166-5573-4d8c-bed9-8f603f8859f9"
      },
      "execution_count": 55,
      "outputs": [
        {
          "output_type": "stream",
          "name": "stdout",
          "text": [
            "Looking in indexes: https://pypi.org/simple, https://us-python.pkg.dev/colab-wheels/public/simple/\n",
            "Requirement already satisfied: PyPDF2 in /usr/local/lib/python3.10/dist-packages (3.0.1)\n"
          ]
        }
      ]
    },
    {
      "cell_type": "code",
      "source": [
        "input_file ='/content/June-DL-2023-Assignment.pdf'  # Replace with the path to your input file\n",
        "output_text = perform_ocr(input_file)\n",
        "print(output_text)\n"
      ],
      "metadata": {
        "colab": {
          "base_uri": "https://localhost:8080/"
        },
        "id": "O4bMqS5ectpO",
        "outputId": "8b857933-7b42-442d-dbc8-8f3b2beab27a"
      },
      "execution_count": 62,
      "outputs": [
        {
          "output_type": "stream",
          "name": "stdout",
          "text": [
            " \n",
            "Greetings from ResoluteAI.in!  \n",
            "Thank you for your interest in our internship opening. As a next step in the screening process, you are \n",
            "required to complete the below mentioned assignment.  \n",
            " \n",
            "Role: Machine Learning Engineer  Intern  \n",
            "Duration : 72 hrs.  \n",
            "Choose any one from below options.   \n",
            "Option 1 : Computer Vision  \n",
            "Complexity: Easy  \n",
            "Task 1:  \n",
            "Process any  given image /pdf  and read the text . Using open - CV approach  and  Py -tesseract only.  \n",
            "User story :  \n",
            "As a user I should be able to process images  and extract the text from the image. ( You are free to use open -\n",
            "source models and codes, but please ensure that there is no complete copy -paste done)  \n",
            "Data is provided check the data folder under task1 folder  \n",
            "Option 2 : Computer Vision   \n",
            "Complexity: Intermediate  \n",
            "Task 2:  \n",
            "Read the text as shown in the given image, make sure the code is generalize and work on all  the given images \n",
            "in task2 Folder .  \n",
            " \n",
            " \n",
            " \n",
            " \n",
            "User story :  \n",
            "As a user I should provide a path to the image, and the program should display the text present in the image. \n",
            "(you are free to use open -source models and codes, but please ensure that there is no complete copy -paste \n",
            "done)  \n",
            "Data is provided check the data folder under task2 folder  \n",
            " \n",
            "Option 3 : Computer  Vision  \n",
            "Complexity: Intermediate  \n",
            "Task 3:  \n",
            "Count the number of items  in the given  freezer  image s.  \n",
            "Tip: Detect & Locate all the compartments of the Refrigerator using computer -vison techniques, and then count.  \n",
            " \n",
            "User story:   \n",
            "As a user I should provide a path to the image, and the program should count and display the information \n",
            "about the number of items in the image . (you are free to use open -source models and codes, but please \n",
            "ensure that there is no complete copy paste done)  \n",
            "Data is provided check the data folder  under task3 folder  \n",
            " \n",
            " \n",
            " \n",
            "Option 4 : Computer Vision  \n",
            "Complexity: Hard  \n",
            "Task:  \n",
            "Fabric defect should be detected using segmentation approach and localize the defect. Use the given dataset \n",
            "for fabric defect detection (unsupervised anomaly detection)  \n",
            "User story:  \n",
            " As a user I should provide a path of the Fabric image, the program should  detect the defect and localize it \n",
            "and mask the defective region.  (you are free to use open -source models and codes, but please ensure that \n",
            "there is no complete copy paste done)  \n",
            "Data is provided check the data folder  under task4 folder  \n",
            "  \n",
            " \n",
            " \n",
            " \n",
            "Submission:  \n",
            "* Send a screen recorded video of the user story or upload into your google drive  and share link (please \n",
            "ensure to rename the video to your full name before sending it)  \n",
            "* Once approved we will ask for the code  \n",
            "* Please zip the video before sending  \n",
            "* Rename structure: TASKNUMBER_FULLNAME  \n",
            " \n",
            "Deadline:  \n",
            " 72 hours after receival of Assignment.  \n",
            "Note: Approach will be   given More Value in assessment . \n"
          ]
        }
      ]
    },
    {
      "cell_type": "code",
      "source": [],
      "metadata": {
        "id": "lRiVIFFKaucj"
      },
      "execution_count": null,
      "outputs": []
    },
    {
      "cell_type": "code",
      "source": [],
      "metadata": {
        "id": "ImaSYX7ZYKfL"
      },
      "execution_count": null,
      "outputs": []
    }
  ]
}